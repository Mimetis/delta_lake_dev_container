{
 "cells": [
  {
   "cell_type": "code",
   "execution_count": 1,
   "id": "ee62f847",
   "metadata": {},
   "outputs": [
    {
     "name": "stdout",
     "output_type": "stream",
     "text": [
      "3.10.12 (main, May 27 2025, 17:12:29) [GCC 11.4.0]\n"
     ]
    }
   ],
   "source": [
    "import sys\n",
    "print (sys.version)"
   ]
  },
  {
   "cell_type": "code",
   "execution_count": 3,
   "id": "1e4f35a8",
   "metadata": {},
   "outputs": [
    {
     "name": "stderr",
     "output_type": "stream",
     "text": [
      "WARNING: Using incubator modules: jdk.incubator.vector\n",
      "Using Spark's default log4j profile: org/apache/spark/log4j2-defaults.properties\n",
      "Setting default log level to \"WARN\".\n",
      "To adjust logging level use sc.setLogLevel(newLevel). For SparkR, use setLogLevel(newLevel).\n",
      "25/07/03 12:35:15 WARN NativeCodeLoader: Unable to load native-hadoop library for your platform... using builtin-java classes where applicable\n"
     ]
    }
   ],
   "source": [
    "from pyspark.sql import SparkSession\n",
    "from pyspark.sql.functions import col\n",
    "from pyspark.sql.functions import lit\n",
    "\n",
    "spark = (\n",
    "    SparkSession.builder.appName(\"SparkDeltaTest\")\n",
    "    .config(\"spark.driver.bindAddress\", \"127.0.0.1\")\n",
    "    .config(\"spark.sql.extensions\", \"io.delta.sql.DeltaSparkSessionExtension\")\n",
    "    .config(\"spark.sql.catalog.spark_catalog\", \"org.apache.spark.sql.delta.catalog.DeltaCatalog\")\n",
    "    .master(\"local[*]\")\n",
    "    .getOrCreate()\n",
    ")"
   ]
  },
  {
   "cell_type": "markdown",
   "id": "beae8102",
   "metadata": {},
   "source": [
    "### Write a delta table"
   ]
  },
  {
   "cell_type": "code",
   "execution_count": 6,
   "id": "a68c8d60",
   "metadata": {},
   "outputs": [],
   "source": [
    "data = spark.range(0, 5)\n",
    "\n",
    "(data\n",
    "  .write\n",
    "  .format(\"delta\")\n",
    "  .save(\"./tmp/delta-table\")\n",
    ")"
   ]
  },
  {
   "cell_type": "markdown",
   "id": "4a0b6810",
   "metadata": {},
   "source": [
    "### Read a delta table"
   ]
  },
  {
   "cell_type": "code",
   "execution_count": 7,
   "id": "82f3385c",
   "metadata": {},
   "outputs": [
    {
     "name": "stdout",
     "output_type": "stream",
     "text": [
      "+---+\n",
      "| id|\n",
      "+---+\n",
      "|  0|\n",
      "|  1|\n",
      "|  2|\n",
      "|  3|\n",
      "|  4|\n",
      "+---+\n",
      "\n"
     ]
    }
   ],
   "source": [
    "df = (spark\n",
    "        .read\n",
    "        .format(\"delta\")\n",
    "        .load(\"./tmp/delta-table\")\n",
    "        .orderBy(\"id\")\n",
    "      )\n",
    "\n",
    "df.show()"
   ]
  },
  {
   "cell_type": "markdown",
   "id": "e2c054d7",
   "metadata": {},
   "source": [
    "### Overwrite a delta table"
   ]
  },
  {
   "cell_type": "code",
   "execution_count": 8,
   "id": "b8fcee84",
   "metadata": {},
   "outputs": [],
   "source": [
    "data = spark.range(5, 10)\n",
    "\n",
    "(data\n",
    "  .write\n",
    "  .format(\"delta\")\n",
    "  .mode(\"overwrite\")\n",
    "  .save(\"/tmp/delta-table\")\n",
    ")"
   ]
  },
  {
   "cell_type": "code",
   "execution_count": 9,
   "id": "385f7064",
   "metadata": {},
   "outputs": [
    {
     "name": "stdout",
     "output_type": "stream",
     "text": [
      "+---+\n",
      "| id|\n",
      "+---+\n",
      "|  5|\n",
      "|  6|\n",
      "|  7|\n",
      "|  8|\n",
      "|  9|\n",
      "+---+\n",
      "\n"
     ]
    }
   ],
   "source": [
    "df = (spark\n",
    "        .read\n",
    "        .format(\"delta\")\n",
    "        .load(\"/tmp/delta-table\")\n",
    "        .orderBy(\"id\")\n",
    "      )\n",
    "\n",
    "df.show()"
   ]
  },
  {
   "cell_type": "markdown",
   "id": "e351eaae",
   "metadata": {},
   "source": [
    "### Delta lake and ACID"
   ]
  },
  {
   "cell_type": "code",
   "execution_count": 10,
   "id": "51b914ef",
   "metadata": {},
   "outputs": [
    {
     "name": "stderr",
     "output_type": "stream",
     "text": [
      "25/07/03 12:38:15 WARN UpdateCommand: Could not validate number of records due to missing statistics.\n"
     ]
    },
    {
     "name": "stdout",
     "output_type": "stream",
     "text": [
      "+---+\n",
      "| id|\n",
      "+---+\n",
      "|  5|\n",
      "|  7|\n",
      "|  9|\n",
      "|106|\n",
      "|108|\n",
      "+---+\n",
      "\n"
     ]
    }
   ],
   "source": [
    "from delta.tables import *\n",
    "from pyspark.sql.functions import *\n",
    "\n",
    "delta_table = DeltaTable.forPath(spark, \"/tmp/delta-table\")\n",
    "\n",
    "# Update every even value by adding 100 to it\n",
    "(delta_table\n",
    "  .update(\n",
    "    condition = expr(\"id % 2 == 0\"),\n",
    "    set = { \"id\": expr(\"id + 100\") }\n",
    "  )\n",
    ")\n",
    "\n",
    "(delta_table\n",
    "  .toDF()\n",
    "  .orderBy(\"id\")\n",
    "  .show()\n",
    ")"
   ]
  },
  {
   "cell_type": "markdown",
   "id": "bdd5f2e8",
   "metadata": {},
   "source": [
    "### Delete"
   ]
  },
  {
   "cell_type": "code",
   "execution_count": 11,
   "id": "8c1aac7f",
   "metadata": {},
   "outputs": [
    {
     "name": "stderr",
     "output_type": "stream",
     "text": [
      "25/07/03 12:40:03 WARN DeleteCommand: Could not validate number of records due to missing statistics.\n"
     ]
    },
    {
     "name": "stdout",
     "output_type": "stream",
     "text": [
      "+---+\n",
      "| id|\n",
      "+---+\n",
      "|  5|\n",
      "|  7|\n",
      "|  9|\n",
      "+---+\n",
      "\n"
     ]
    }
   ],
   "source": [
    "# Delete every even value\n",
    "(delta_table\n",
    "  .delete(\n",
    "    condition = expr(\"id % 2 == 0\")\n",
    "  )\n",
    ")\n",
    "\n",
    "(delta_table\n",
    "  .toDF()\n",
    "  .orderBy(\"id\")\n",
    "  .show()\n",
    ")"
   ]
  }
 ],
 "metadata": {
  "kernelspec": {
   "display_name": "Python 3",
   "language": "python",
   "name": "python3"
  },
  "language_info": {
   "codemirror_mode": {
    "name": "ipython",
    "version": 3
   },
   "file_extension": ".py",
   "mimetype": "text/x-python",
   "name": "python",
   "nbconvert_exporter": "python",
   "pygments_lexer": "ipython3",
   "version": "3.10.12"
  }
 },
 "nbformat": 4,
 "nbformat_minor": 5
}
