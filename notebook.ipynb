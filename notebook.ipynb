{
 "cells": [
  {
   "cell_type": "code",
   "execution_count": null,
   "id": "ee62f847",
   "metadata": {},
   "outputs": [],
   "source": [
    "import sys\n",
    "print (sys.version)"
   ]
  },
  {
   "cell_type": "code",
   "execution_count": null,
   "id": "9b05d5f5",
   "metadata": {},
   "outputs": [],
   "source": [
    "access_token = \"eyJ0eXAiOiJKV1QiLCJhbGciOiJSUzI1NiIsIng1dCI6IkpZaEFjVFBNWl9MWDZEQmxPV1E3SG4wTmVYRSIsImtpZCI6IkpZaEFjVFBNWl9MWDZEQmxPV1E3SG4wTmVYRSJ9.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.YQRNtfAeSaIT9aHf4YSvtITInpWkdbOPbKSGbEJ8Wmjm0-3kFlFoTedn4n655oV4IDNBZheet4XFLFKqSoedRhsSGXAS3dOVRUjhjsa_I8MUUfm_OzEnVK49axXPbVEvmmmyFCjdlzSAwohXhfzVstD5CPhJB6CGef7cGQ7YjEHdGJZ30rpB4Y99C8wXf0DLiHV4hlmsuUNJcY3s1XhNO7lZGBkHm_QtxodvGy6Zu8KCkMvpma6oIHaxMUbu-CVy5nw66v0QHFjEaDBh-XP0VFhfwPl4u8LGD_1y9aXnpJg38aeVaa3TApzCu9GIi0I7skFrAxhZt4_vnORat7S7Sg\""
   ]
  },
  {
   "cell_type": "code",
   "execution_count": null,
   "id": "1e4f35a8",
   "metadata": {},
   "outputs": [],
   "source": [
    "from pyspark.sql import SparkSession\n",
    "\n",
    "\n",
    "spark = (\n",
    "    SparkSession.builder.appName(\"SparkDeltaTest\")\n",
    "    .config(\"spark.driver.bindAddress\", \"127.0.0.1\")\n",
    "    .config(\"spark.sql.extensions\", \"io.delta.sql.DeltaSparkSessionExtension\")\n",
    "    .config(\"spark.sql.catalog.spark_catalog\", \"org.apache.spark.sql.delta.catalog.DeltaCatalog\")\n",
    "    .master(\"local[*]\")\n",
    "    .getOrCreate()\n",
    ")"
   ]
  },
  {
   "cell_type": "code",
   "execution_count": null,
   "id": "4bfbe8dc",
   "metadata": {},
   "outputs": [
    {
     "name": "stdout",
     "output_type": "stream",
     "text": [
      "+--------------+--------------+------------+---------+------------------+--------------------+-----+-----------+---------------------+---------------------+--------------------+-----+-------+---------------+------------+------------------+----------+------------+------------+-------------+---------+----+\n",
      "|do_location_id|pu_location_id|rate_code_id|vendor_id|cbd_congestion_fee|congestion_surcharge|extra|fare_amount|improvement_surcharge|lpep_dropoff_datetime|lpep_pickup_datetime|month|mta_tax|passenger_count|payment_type|store_and_fwd_flag|tip_amount|tolls_amount|total_amount|trip_distance|trip_type|year|\n",
      "+--------------+--------------+------------+---------+------------------+--------------------+-----+-----------+---------------------+---------------------+--------------------+-----+-------+---------------+------------+------------------+----------+------------+------------+-------------+---------+----+\n",
      "|           210|           210|           1|        2|               0.0|                 0.0|  1.0|        8.6|                  1.0| 2025-05-01T00:09:...|2025-05-01T00:02:...|    5|    0.5|              1|           1|                 N|      2.78|         0.0|       13.88|         0.99|        1|2025|\n",
      "|           179|           146|           1|        2|               0.0|                 0.0|  1.0|       10.0|                  1.0| 2025-05-01T00:14:...|2025-05-01T00:07:...|    5|    0.5|              1|           1|                 N|      3.12|         0.0|       15.62|         1.47|        1|2025|\n",
      "|            42|           244|           1|        2|               0.0|                 0.0|  1.0|       15.6|                  1.0| 2025-05-01T00:22:...|2025-05-01T00:08:...|    5|    0.5|              1|           2|                 N|       0.0|         0.0|        18.1|         2.87|        1|2025|\n",
      "|           196|            95|           1|        2|               0.0|                 0.0|  1.0|        9.3|                  1.0| 2025-05-01T00:18:...|2025-05-01T00:11:...|    5|    0.5|              1|           2|                 N|       0.0|         0.0|        11.8|         1.54|        1|2025|\n",
      "|            48|            66|           1|        2|              0.75|                2.75|  1.0|       27.5|                  1.0| 2025-05-01T00:40:...|2025-05-01T00:12:...|    5|    0.5|              5|           1|                 N|      5.08|         0.0|       38.58|         5.29|        1|2025|\n",
      "|            70|           129|           1|        2|               0.0|                 0.0|  1.0|       13.5|                  1.0| 2025-05-01T00:26:...|2025-05-01T00:13:...|    5|    0.5|              1|           2|                 N|       0.0|         0.0|        16.0|         2.15|        1|2025|\n",
      "|           265|           150|           1|        2|               0.0|                 0.0|  1.0|       59.7|                  1.0| 2025-05-01T00:34:...|2025-05-01T00:15:...|    5|    0.5|              1|           2|                 N|       0.0|         0.0|        62.2|        16.07|        1|2025|\n",
      "|           265|           130|           1|        2|               0.0|                 0.0|  1.0|       35.9|                  1.0| 2025-05-01T00:36:...|2025-05-01T00:16:...|    5|    0.5|              1|           1|                 N|      7.68|         0.0|       46.08|         8.72|        1|2025|\n",
      "|           216|            25|           1|        2|               0.0|                 0.0|  1.0|       44.3|                  1.0| 2025-05-01T00:56:...|2025-05-01T00:17:...|    5|    0.5|              1|           1|                 N|       0.0|         0.0|        46.8|         9.34|        1|2025|\n",
      "|           264|            82|           5|        2|               0.0|                 0.0|  0.0|        9.0|                  1.0| 2025-05-01T00:23:...|2025-05-01T00:22:...|    5|    0.0|              1|           2|                 N|       0.0|         0.0|        10.0|         0.08|        2|2025|\n",
      "|           229|            75|           1|        2|              0.75|                2.75|  1.0|       17.0|                  1.0| 2025-05-01T00:39:...|2025-05-01T00:24:...|    5|    0.5|              5|           1|                 N|       2.0|         0.0|        25.0|          3.0|        1|2025|\n",
      "|           179|           260|           1|        1|               0.0|                 0.0|  1.0|       18.4|                  1.0| 2025-05-01T00:42:...|2025-05-01T00:24:...|    5|    1.5|              1|           2|                 N|       0.0|         0.0|        20.9|          3.0|        1|2025|\n",
      "|           129|           129|           1|        2|               0.0|                 0.0|  1.0|        7.9|                  1.0| 2025-05-01T00:31:...|2025-05-01T00:25:...|    5|    0.5|              1|           2|                 N|       0.0|         0.0|        10.4|         1.03|        1|2025|\n",
      "|            82|            82|           5|        2|               0.0|                 0.0|  0.0|        9.0|                  1.0| 2025-05-01T00:25:...|2025-05-01T00:25:...|    5|    0.0|              1|           1|                 N|       0.0|         0.0|        10.0|          0.0|        2|2025|\n",
      "|           216|           130|           1|        2|               0.0|                 0.0|  1.0|        9.3|                  1.0| 2025-05-01T00:33:...|2025-05-01T00:27:...|    5|    0.5|              1|           2|                 N|       0.0|         0.0|        11.8|         1.61|        1|2025|\n",
      "|           189|            25|           1|        2|               0.0|                 0.0|  1.0|       14.2|                  1.0| 2025-05-01T00:39:...|2025-05-01T00:31:...|    5|    0.5|              1|           1|                 N|      3.34|         0.0|       20.04|         2.48|        1|2025|\n",
      "|           151|           244|           1|        2|               0.0|                 0.0|  1.0|       15.6|                  1.0| 2025-05-01T00:41:...|2025-05-01T00:32:...|    5|    0.5|              2|           1|                 N|      4.52|         0.0|       22.62|         3.44|        1|2025|\n",
      "|           244|            74|           1|        2|               0.0|                 0.0|  1.0|       14.2|                  1.0| 2025-05-01T00:47:...|2025-05-01T00:36:...|    5|    0.5|              1|           1|                 N|      3.34|         0.0|       20.04|         2.42|        1|2025|\n",
      "|           238|            74|           1|        2|               0.0|                 0.0|  1.0|       14.2|                  1.0| 2025-05-01T00:46:...|2025-05-01T00:36:...|    5|    0.5|              1|           1|                 N|      4.18|         0.0|       20.88|         2.63|        1|2025|\n",
      "|           129|           129|           1|        2|               0.0|                 0.0|  1.0|        5.8|                  1.0| 2025-05-01T00:39:...|2025-05-01T00:36:...|    5|    0.5|              1|           1|                 N|       5.0|         0.0|        13.3|         0.56|        1|2025|\n",
      "+--------------+--------------+------------+---------+------------------+--------------------+-----+-----------+---------------------+---------------------+--------------------+-----+-------+---------------+------------+------------------+----------+------------+------------+-------------+---------+----+\n",
      "only showing top 20 rows\n"
     ]
    }
   ],
   "source": [
    "\n",
    "df = (\n",
    "    spark.read.format(\"json\")\n",
    "         .option(\"multiLine\", \"false\")              # JSONL = one JSON per line\n",
    "         .option(\"recursiveFileLookup\", \"true\")     # descend into subfolders\n",
    "         .option(\"pathGlobFilter\", \"*.jsonl\")       # only .jsonl files\n",
    "         .load(\"json\")\n",
    ")\n",
    "\n",
    "df = df.withColumnsRenamed({\n",
    "    \"DOLocationID\": \"do_location_id\",\n",
    "    \"PULocationID\": \"pu_location_id\",\n",
    "    \"RatecodeID\": \"rate_code_id\",\n",
    "    \"VendorID\": \"vendor_id\",\n",
    "})\n",
    "\n",
    "df.show()"
   ]
  },
  {
   "cell_type": "code",
   "execution_count": 21,
   "id": "b28fcf75",
   "metadata": {},
   "outputs": [
    {
     "name": "stdout",
     "output_type": "stream",
     "text": [
      "+--------+--------------------+---------------------+------------------+----------+------------+------------+---------------+-------------+-----------+-----+-------+----------+------------+---------+---------------------+------------+------------+---------+--------------------+------------------+----+-----+\n",
      "|VendorID|lpep_pickup_datetime|lpep_dropoff_datetime|store_and_fwd_flag|RatecodeID|PULocationID|DOLocationID|passenger_count|trip_distance|fare_amount|extra|mta_tax|tip_amount|tolls_amount|ehail_fee|improvement_surcharge|total_amount|payment_type|trip_type|congestion_surcharge|cbd_congestion_fee|year|month|\n",
      "+--------+--------------------+---------------------+------------------+----------+------------+------------+---------------+-------------+-----------+-----+-------+----------+------------+---------+---------------------+------------+------------+---------+--------------------+------------------+----+-----+\n",
      "|       2| 2024-12-25 23:13:15|  2024-12-25 23:13:17|                 N|         5|           7|         264|              3|          0.0|       35.0|  0.0|    0.0|       7.2|         0.0|     NULL|                  1.0|        43.2|           1|        2|                 0.0|               0.0|2024|   12|\n",
      "|       2| 2024-12-29 01:23:41|  2024-12-29 01:41:08|                 N|         5|          92|          75|              6|        10.15|       65.0|  0.0|    0.0|       0.0|        6.94|     NULL|                  1.0|       72.94|           2|        2|                 0.0|               0.0|2024|   12|\n",
      "|       2| 2024-12-31 19:56:14|  2024-12-31 20:03:33|                 N|         1|          82|         129|              1|          1.0|        8.6|  1.0|    0.5|      2.22|         0.0|     NULL|                  1.0|       13.32|           1|        1|                 0.0|               0.0|2024|   12|\n",
      "|       2| 2024-12-31 22:42:13|  2024-12-31 22:42:31|                 N|         3|          74|          74|              1|         0.06|       23.0|  1.0|    0.0|       0.0|         0.0|     NULL|                  1.0|        25.0|           2|        1|                 0.0|               0.0|2024|   12|\n",
      "|       2| 2024-12-31 23:01:11|  2024-12-31 23:04:29|                 N|         1|          75|         236|              1|         0.66|        5.8|  1.0|    0.5|      2.76|         0.0|     NULL|                  1.0|       13.81|           1|        1|                2.75|               0.0|2024|   12|\n",
      "|       2| 2024-12-31 23:30:28|  2024-12-31 23:35:39|                 N|         1|          75|         151|              1|         1.04|        7.9|  1.0|    0.5|       1.5|         0.0|     NULL|                  1.0|        11.9|           1|        1|                 0.0|               0.0|2024|   12|\n",
      "|       2| 2025-01-01 00:01:11|  2025-01-01 00:12:52|                 N|         1|          95|         130|              1|          3.9|       18.4|  1.0|    0.5|       0.0|         0.0|     NULL|                  1.0|        20.9|           2|        1|                 0.0|               0.0|2025|    1|\n",
      "|       2| 2025-01-01 00:01:40|  2025-01-01 00:18:21|                 N|         1|          74|         262|              1|         2.91|       17.7|  1.0|    0.5|      4.59|         0.0|     NULL|                  1.0|       27.54|           1|        1|                2.75|               0.0|2025|    1|\n",
      "|       2| 2025-01-01 00:03:01|  2025-01-01 00:17:12|                 N|         1|          75|         235|              1|         5.93|       24.7|  1.0|    0.5|       6.8|         0.0|     NULL|                  1.0|        34.0|           1|        1|                 0.0|               0.0|2025|    1|\n",
      "|       2| 2025-01-01 00:04:05|  2025-01-01 00:15:49|                 N|         1|         243|         116|              1|         3.22|       17.0|  1.0|    0.5|       0.0|         0.0|     NULL|                  1.0|        19.5|           2|        1|                 0.0|               0.0|2025|    1|\n",
      "|       2| 2025-01-01 00:05:19|  2025-01-01 00:11:05|                 N|         1|          41|          74|              1|         1.05|        7.9|  1.0|    0.5|      2.08|         0.0|     NULL|                  1.0|       12.48|           1|        1|                 0.0|               0.0|2025|    1|\n",
      "|       2| 2025-01-01 00:05:29|  2025-01-01 00:07:21|                 N|         5|         171|          73|              1|         0.41|      25.55|  0.0|    0.0|       0.0|         0.0|     NULL|                  1.0|       26.55|           2|        2|                 0.0|               0.0|2025|    1|\n",
      "|       2| 2025-01-01 00:06:57|  2025-01-01 00:06:59|                 N|         5|         135|         135|              1|          0.0|       19.0|  0.0|    0.0|       0.0|         0.0|     NULL|                  1.0|        20.0|           1|        2|                 0.0|               0.0|2025|    1|\n",
      "|       2| 2025-01-01 00:08:44|  2025-01-01 00:21:10|                 N|         1|          95|         135|              1|         1.98|       13.5|  1.0|    0.5|       4.0|         0.0|     NULL|                  1.0|        20.0|           1|        1|                 0.0|               0.0|2025|    1|\n",
      "|       2| 2025-01-01 00:09:57|  2025-01-01 00:18:05|                 N|         1|         260|          83|              1|         1.08|        9.3|  1.0|    0.5|       1.0|         0.0|     NULL|                  1.0|        12.8|           1|        1|                 0.0|               0.0|2025|    1|\n",
      "|       2| 2025-01-01 00:11:49|  2025-01-01 00:15:31|                 N|         1|         223|         223|              5|         0.75|        5.8|  1.0|    0.5|      2.49|         0.0|     NULL|                  1.0|       10.79|           1|        1|                 0.0|               0.0|2025|    1|\n",
      "|       2| 2025-01-01 00:11:53|  2025-01-01 00:19:22|                 N|         1|         256|         112|              1|         0.93|        8.6|  1.0|    0.5|      2.22|         0.0|     NULL|                  1.0|       13.32|           1|        1|                 0.0|               0.0|2025|    1|\n",
      "|       2| 2025-01-01 00:13:23|  2025-01-01 00:45:16|                 N|         1|         255|         107|              1|         4.23|       29.6|  1.0|    0.5|      6.97|         0.0|     NULL|                  1.0|       41.82|           1|        1|                2.75|               0.0|2025|    1|\n",
      "|       1| 2025-01-01 00:13:44|  2025-01-01 00:27:42|                 N|         1|          42|         159|              1|          0.0|       18.5|  0.0|    1.5|       0.0|         0.0|     NULL|                  1.0|        20.0|           1|        1|                 0.0|               0.0|2025|    1|\n",
      "|       2| 2025-01-01 00:13:51|  2025-01-01 00:42:50|                 N|         5|         157|         157|              1|         7.23|       65.0|  0.0|    0.0|      13.2|         0.0|     NULL|                  1.0|        79.2|           1|        2|                 0.0|               0.0|2025|    1|\n",
      "+--------+--------------------+---------------------+------------------+----------+------------+------------+---------------+-------------+-----------+-----+-------+----------+------------+---------+---------------------+------------+------------+---------+--------------------+------------------+----+-----+\n",
      "only showing top 20 rows\n"
     ]
    }
   ],
   "source": [
    "from pyspark.sql import functions as F\n",
    "\n",
    "df = spark.read.load('input/', format='parquet')\n",
    "df = df.orderBy(F.col(\"lpep_pickup_datetime\").asc())\n",
    "df = df.withColumn(\"year\", F.year(F.col(\"lpep_pickup_datetime\")))\n",
    "df = df.withColumn(\"month\", F.month(F.col(\"lpep_pickup_datetime\")))\n",
    "df.show()\n",
    "# "
   ]
  },
  {
   "cell_type": "code",
   "execution_count": null,
   "id": "4d3503c5",
   "metadata": {},
   "outputs": [
    {
     "name": "stderr",
     "output_type": "stream",
     "text": [
      "                                                                                \r"
     ]
    }
   ],
   "source": [
    "# df.coalesce(1).write.mode(\"overwrite\").partitionBy([\"year\", \"month\"]).json(\"json\")"
   ]
  },
  {
   "cell_type": "code",
   "execution_count": 24,
   "id": "21d3032e",
   "metadata": {},
   "outputs": [],
   "source": [
    "\n",
    "from pyspark.sql import functions as F\n",
    "\n",
    "years = [r[\"year\"] for r in df.select(\"year\").distinct().collect()]\n",
    "if len(years) != 2:\n",
    "    raise ValueError(f\"Expected exactly 2 distinct years, got {len(years)}: {years}\")\n",
    "\n",
    "for y in years:\n",
    "    per_year = df.filter(F.col(\"year\") == y)\n",
    "    months = [r[\"month\"] for r in per_year.select(\"month\").distinct().collect()]\n",
    "    for m in months:\n",
    "        per_month = per_year.filter(F.col(\"month\") == m)\n",
    "        writer = per_month.coalesce(1).write.mode(\"overwrite\")\n",
    "        writer.json(f\"json/{y}/{m}\")\n"
   ]
  },
  {
   "cell_type": "code",
   "execution_count": null,
   "id": "fa6cd6e6",
   "metadata": {},
   "outputs": [],
   "source": [
    "from pyspark.sql import SparkSession\n",
    "\n",
    "\n",
    "def get_spark_session(app_name=\"MyApp\"):\n",
    "    # Check if an active Spark session exists\n",
    "    active_session = SparkSession.getActiveSession()\n",
    "    if active_session:\n",
    "        print(\"Using existing Spark session.\")\n",
    "        return active_session\n",
    "    print(\"No active Spark session found. Creating a new one...\")\n",
    "    return (\n",
    "        SparkSession.builder.appName(app_name)\n",
    "        .config(\"spark.sql.shuffle.partitions\", \"8\")\n",
    "        .getOrCreate()\n",
    "    )\n",
    "\n",
    "\n",
    "# Usage\n",
    "spark = get_spark_session()"
   ]
  },
  {
   "cell_type": "code",
   "execution_count": null,
   "id": "19cc5fc0",
   "metadata": {},
   "outputs": [],
   "source": [
    "sc = spark.sparkContext\n",
    "print(\"appId :\", sc.applicationId)   # e.g., application_...  (cluster app ID)\n",
    "print(\"spark UI:\", sc.uiWebUrl)      # URL to Spark UI (cluster), not present in local/minimal setups"
   ]
  },
  {
   "cell_type": "code",
   "execution_count": null,
   "id": "ec841354",
   "metadata": {},
   "outputs": [],
   "source": [
    "\n",
    "def get_or_none(key):\n",
    "    try:\n",
    "        return spark.conf.get(key)\n",
    "    except Exception:\n",
    "        return None\n",
    "\n",
    "print(\"workspace:\", get_or_none(\"spark.synapse.workspace.name\"))\n",
    "print(\"pool     :\", get_or_none(\"spark.synapse.sparkpool\"))          # may exist on newer runtimes\n",
    "print(\"sessionId:\", get_or_none(\"spark.synapse.sessionId\"))          # may exist on newer runtimes\n"
   ]
  },
  {
   "cell_type": "code",
   "execution_count": null,
   "id": "2a5994df",
   "metadata": {},
   "outputs": [],
   "source": [
    "def assert_synapse_session(spark):\n",
    "    active = SparkSession.getActiveSession()\n",
    "    assert active is spark, \"Not using the active Spark session.\"\n",
    "    master = spark.sparkContext.master\n",
    "    assert not master.startswith(\"local\"), f\"Unexpected local master: {master}\"\n",
    "    markers = [\n",
    "        (\"spark.synapse.workspace.name\", None),\n",
    "        (\"spark.synapse.sparkpool\", None),\n",
    "        (\"spark.synapse.sessionId\", None),\n",
    "    ]\n",
    "    found = False\n",
    "    for k, _ in markers:\n",
    "        try:\n",
    "            v = spark.conf.get(k)\n",
    "            if v:\n",
    "                found = True\n",
    "                break\n",
    "        except Exception:\n",
    "            pass\n",
    "    assert found, \"No Synapse markers found in spark.conf; are you running inside Synapse?\"\n",
    "    print(\"✅ Verified: Synapse Spark session in use.\")\n",
    "\n",
    "# Use it:\n",
    "assert_synapse_session(spark)\n"
   ]
  },
  {
   "cell_type": "markdown",
   "id": "beae8102",
   "metadata": {},
   "source": [
    "### Write a delta table"
   ]
  },
  {
   "cell_type": "code",
   "execution_count": null,
   "id": "a68c8d60",
   "metadata": {},
   "outputs": [],
   "source": [
    "data = spark.range(0, 5)\n",
    "\n",
    "(data\n",
    "  .write\n",
    "  .format(\"delta\")\n",
    "  .save(\"./tmp/delta-table\")\n",
    ")"
   ]
  },
  {
   "cell_type": "markdown",
   "id": "4a0b6810",
   "metadata": {},
   "source": [
    "### Read a delta table"
   ]
  },
  {
   "cell_type": "code",
   "execution_count": null,
   "id": "82f3385c",
   "metadata": {},
   "outputs": [],
   "source": [
    "df = (spark\n",
    "        .read\n",
    "        .format(\"delta\")\n",
    "        .load(\"./tmp/delta-table\")\n",
    "        .orderBy(\"id\")\n",
    "      )\n",
    "\n",
    "df.show()"
   ]
  },
  {
   "cell_type": "markdown",
   "id": "e2c054d7",
   "metadata": {},
   "source": [
    "### Overwrite a delta table"
   ]
  },
  {
   "cell_type": "code",
   "execution_count": null,
   "id": "b8fcee84",
   "metadata": {},
   "outputs": [],
   "source": [
    "data = spark.range(5, 10)\n",
    "\n",
    "(data\n",
    "  .write\n",
    "  .format(\"delta\")\n",
    "  .mode(\"overwrite\")\n",
    "  .save(\"/tmp/delta-table\")\n",
    ")"
   ]
  },
  {
   "cell_type": "code",
   "execution_count": null,
   "id": "385f7064",
   "metadata": {},
   "outputs": [],
   "source": [
    "df = (spark\n",
    "        .read\n",
    "        .format(\"delta\")\n",
    "        .load(\"/tmp/delta-table\")\n",
    "        .orderBy(\"id\")\n",
    "      )\n",
    "\n",
    "df.show()"
   ]
  },
  {
   "cell_type": "markdown",
   "id": "e351eaae",
   "metadata": {},
   "source": [
    "### Delta lake and ACID"
   ]
  },
  {
   "cell_type": "code",
   "execution_count": null,
   "id": "51b914ef",
   "metadata": {},
   "outputs": [],
   "source": [
    "from delta.tables import *\n",
    "from pyspark.sql.functions import *\n",
    "\n",
    "delta_table = DeltaTable.forPath(spark, \"/tmp/delta-table\")\n",
    "\n",
    "# Update every even value by adding 100 to it\n",
    "(delta_table\n",
    "  .update(\n",
    "    condition = expr(\"id % 2 == 0\"),\n",
    "    set = { \"id\": expr(\"id + 100\") }\n",
    "  )\n",
    ")\n",
    "\n",
    "(delta_table\n",
    "  .toDF()\n",
    "  .orderBy(\"id\")\n",
    "  .show()\n",
    ")"
   ]
  },
  {
   "cell_type": "markdown",
   "id": "bdd5f2e8",
   "metadata": {},
   "source": [
    "### Delete"
   ]
  },
  {
   "cell_type": "code",
   "execution_count": null,
   "id": "8c1aac7f",
   "metadata": {},
   "outputs": [],
   "source": [
    "# Delete every even value\n",
    "(delta_table\n",
    "  .delete(\n",
    "    condition = expr(\"id % 2 == 0\")\n",
    "  )\n",
    ")\n",
    "\n",
    "(delta_table\n",
    "  .toDF()\n",
    "  .orderBy(\"id\")\n",
    "  .show()\n",
    ")"
   ]
  }
 ],
 "metadata": {
  "kernelspec": {
   "display_name": "Python 3",
   "language": "python",
   "name": "python3"
  },
  "language_info": {
   "codemirror_mode": {
    "name": "ipython",
    "version": 3
   },
   "file_extension": ".py",
   "mimetype": "text/x-python",
   "name": "python",
   "nbconvert_exporter": "python",
   "pygments_lexer": "ipython3",
   "version": "3.10.12"
  }
 },
 "nbformat": 4,
 "nbformat_minor": 5
}
